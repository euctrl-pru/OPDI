{
 "cells": [
  {
   "cell_type": "code",
   "execution_count": 1,
   "id": "3da17418-4d4f-4c65-a435-da15eae33dcd",
   "metadata": {},
   "outputs": [
    {
     "data": {
      "text/plain": [
       "\u001b[0;31mSignature:\u001b[0m \u001b[0mos\u001b[0m\u001b[0;34m.\u001b[0m\u001b[0mgetenv\u001b[0m\u001b[0;34m(\u001b[0m\u001b[0mkey\u001b[0m\u001b[0;34m,\u001b[0m \u001b[0mdefault\u001b[0m\u001b[0;34m=\u001b[0m\u001b[0;32mNone\u001b[0m\u001b[0;34m)\u001b[0m\u001b[0;34m\u001b[0m\u001b[0;34m\u001b[0m\u001b[0m\n",
       "\u001b[0;31mDocstring:\u001b[0m\n",
       "Get an environment variable, return None if it doesn't exist.\n",
       "The optional second argument can specify an alternate default.\n",
       "key, default and the result are str.\n",
       "\u001b[0;31mFile:\u001b[0m      /usr/local/lib/python3.10/os.py\n",
       "\u001b[0;31mType:\u001b[0m      function"
      ]
     },
     "metadata": {},
     "output_type": "display_data"
    }
   ],
   "source": [
    "import os\n",
    "os.getenv?"
   ]
  },
  {
   "cell_type": "code",
   "execution_count": 2,
   "id": "ce76d3ec-0423-4254-b0b6-719d8c17675b",
   "metadata": {},
   "outputs": [
    {
     "name": "stdout",
     "output_type": "stream",
     "text": [
      "root\n",
      " |-- ID: decimal(38,10) (nullable = true)\n",
      " |-- ID_A: decimal(9,0) (nullable = true)\n",
      " |-- LOBT: timestamp (nullable = true)\n",
      " |-- ADEP: string (nullable = true)\n",
      " |-- ADES: string (nullable = true)\n",
      " |-- STD: timestamp (nullable = true)\n",
      " |-- STA: timestamp (nullable = true)\n",
      " |-- ACTUAL_OUT: timestamp (nullable = true)\n",
      " |-- ACTUAL_OFF: timestamp (nullable = true)\n",
      " |-- ACTUAL_IN: timestamp (nullable = true)\n",
      " |-- ACTUAL_ON: timestamp (nullable = true)\n",
      " |-- DEP_DLY: decimal(38,10) (nullable = true)\n",
      " |-- AXOT_A: decimal(38,10) (nullable = true)\n",
      " |-- FLTT: decimal(38,10) (nullable = true)\n",
      " |-- AXIT_A: decimal(38,10) (nullable = true)\n",
      " |-- ARR_DLY: decimal(38,10) (nullable = true)\n",
      " |-- BLOCKT: decimal(38,10) (nullable = true)\n",
      " |-- TOTACT: decimal(38,10) (nullable = true)\n",
      " |-- AL0: decimal(38,10) (nullable = true)\n",
      " |-- AL1: decimal(38,10) (nullable = true)\n",
      " |-- AL2: decimal(38,10) (nullable = true)\n",
      " |-- AL3: decimal(38,10) (nullable = true)\n",
      " |-- AL4: decimal(38,10) (nullable = true)\n",
      " |-- AL5: decimal(38,10) (nullable = true)\n",
      " |-- AL6: decimal(38,10) (nullable = true)\n",
      " |-- WX_DEP_71_75_76_77: decimal(38,10) (nullable = true)\n",
      " |-- WX_EN_73: decimal(38,10) (nullable = true)\n",
      " |-- WX_DEST_72: decimal(38,10) (nullable = true)\n",
      " |-- ATFM_EN_81_82: decimal(38,10) (nullable = true)\n",
      " |-- ATFM_APT_DEST_83: decimal(38,10) (nullable = true)\n",
      " |-- ATFM_WX_DEST_84: decimal(38,10) (nullable = true)\n",
      " |-- SEC_85: decimal(38,10) (nullable = true)\n",
      " |-- IMI_86: decimal(38,10) (nullable = true)\n",
      " |-- APT_FAC_87: decimal(38,10) (nullable = true)\n",
      " |-- APT_DEST_88: decimal(38,10) (nullable = true)\n",
      " |-- APT_DEP_89: decimal(38,10) (nullable = true)\n",
      " |-- REAC_91_96: decimal(38,10) (nullable = true)\n",
      " |-- MISC_97_99: decimal(38,10) (nullable = true)\n",
      " |-- NO_CODE: decimal(38,10) (nullable = true)\n",
      " |-- DELAYED: decimal(38,10) (nullable = true)\n",
      " |-- DELAYED15: decimal(38,10) (nullable = true)\n",
      " |-- TOT_DLY: decimal(38,10) (nullable = true)\n",
      " |-- DEP_PCT: string (nullable = true)\n",
      " |-- ARR_PCT: string (nullable = true)\n",
      " |-- FLT_DATE: string (nullable = true)\n",
      " |-- MM: timestamp (nullable = true)\n",
      " |-- FROM_EUR: string (nullable = true)\n",
      " |-- TO_EUR: string (nullable = true)\n",
      "\n"
     ]
    },
    {
     "name": "stderr",
     "output_type": "stream",
     "text": [
      "[Stage 1:>                                                          (0 + 1) / 1]\r"
     ]
    },
    {
     "name": "stdout",
     "output_type": "stream",
     "text": [
      "+--------------------+---------+-------------------+----+----+-------------------+-------------------+-------------------+-------------------+-------------------+-------------------+-------------+-------------+--------------+------------+--------------+--------------+--------------+-----+-----+-----+-----+-----+-----+-----+------------------+--------+----------+-------------+----------------+---------------+------+------+----------+-----------+----------+----------+----------+-------+-------+---------+-------+-------+-------+-----------+-------------------+--------+------+\n",
      "|ID                  |ID_A     |LOBT               |ADEP|ADES|STD                |STA                |ACTUAL_OUT         |ACTUAL_OFF         |ACTUAL_IN          |ACTUAL_ON          |DEP_DLY      |AXOT_A       |FLTT          |AXIT_A      |ARR_DLY       |BLOCKT        |TOTACT        |AL0  |AL1  |AL2  |AL3  |AL4  |AL5  |AL6  |WX_DEP_71_75_76_77|WX_EN_73|WX_DEST_72|ATFM_EN_81_82|ATFM_APT_DEST_83|ATFM_WX_DEST_84|SEC_85|IMI_86|APT_FAC_87|APT_DEST_88|APT_DEP_89|REAC_91_96|MISC_97_99|NO_CODE|DELAYED|DELAYED15|TOT_DLY|DEP_PCT|ARR_PCT|FLT_DATE   |MM                 |FROM_EUR|TO_EUR|\n",
      "+--------------------+---------+-------------------+----+----+-------------------+-------------------+-------------------+-------------------+-------------------+-------------------+-------------+-------------+--------------+------------+--------------+--------------+--------------+-----+-----+-----+-----+-----+-----+-----+------------------+--------+----------+-------------+----------------+---------------+------+------+----------+-----------+----------+----------+----------+-------+-------+---------+-------+-------+-------+-----------+-------------------+--------+------+\n",
      "|132603495.0000000000|132603495|2010-01-01 00:01:00|KJFK|EGLL|2010-01-01 00:01:00|2010-01-01 07:10:00|2009-12-31 23:52:00|2010-01-01 00:22:00|2010-01-01 07:03:00|2010-01-01 06:54:00|-9.0000000000|30.0000000000|392.0000000000|9.0000000000|-7.0000000000 |429.0000000000|431.0000000000|0E-10|0E-10|0E-10|0E-10|0E-10|0E-10|0E-10|0E-10             |0E-10   |0E-10     |0E-10        |0E-10           |0E-10          |0E-10 |0E-10 |0E-10     |0E-10      |0E-10     |0E-10     |0E-10     |0E-10  |0E-10  |0E-10    |0E-10  |15-15  |15-15  |31-DEC-2009|2010-01-01 00:00:00|N       |Y     |\n",
      "|133186174.0000000000|133186174|2010-01-27 11:25:00|ENVA|ENKB|2010-01-27 11:25:00|2010-01-27 12:05:00|2010-01-27 11:25:00|2010-01-27 11:30:00|2010-01-27 12:00:00|2010-01-27 11:57:00|0E-10        |5.0000000000 |27.0000000000 |3.0000000000|-5.0000000000 |40.0000000000 |35.0000000000 |0E-10|0E-10|0E-10|0E-10|0E-10|0E-10|0E-10|0E-10             |0E-10   |0E-10     |0E-10        |0E-10           |0E-10          |0E-10 |0E-10 |0E-10     |0E-10      |0E-10     |0E-10     |0E-10     |0E-10  |0E-10  |0E-10    |0E-10  |15-15  |15-15  |27-JAN-2010|2010-01-01 00:00:00|Y       |Y     |\n",
      "|133187398.0000000000|133187398|2010-01-27 12:20:00|ENKB|ENVA|2010-01-27 12:20:00|2010-01-27 13:00:00|2010-01-27 12:18:00|2010-01-27 12:25:00|2010-01-27 13:01:00|2010-01-27 12:58:00|-2.0000000000|7.0000000000 |33.0000000000 |3.0000000000|1.0000000000  |40.0000000000 |43.0000000000 |0E-10|0E-10|0E-10|0E-10|0E-10|0E-10|0E-10|0E-10             |0E-10   |0E-10     |0E-10        |0E-10           |0E-10          |0E-10 |0E-10 |0E-10     |0E-10      |0E-10     |0E-10     |0E-10     |0E-10  |0E-10  |0E-10    |0E-10  |15-15  |15-15  |27-JAN-2010|2010-01-01 00:00:00|Y       |Y     |\n",
      "|133133513.0000000000|133133513|2010-01-25 08:30:00|ENVA|ENKB|2010-01-25 08:30:00|2010-01-25 09:10:00|2010-01-25 08:30:00|2010-01-25 08:34:00|2010-01-25 09:09:00|2010-01-25 09:07:00|0E-10        |4.0000000000 |33.0000000000 |2.0000000000|-1.0000000000 |40.0000000000 |39.0000000000 |0E-10|0E-10|0E-10|0E-10|0E-10|0E-10|0E-10|0E-10             |0E-10   |0E-10     |0E-10        |0E-10           |0E-10          |0E-10 |0E-10 |0E-10     |0E-10      |0E-10     |0E-10     |0E-10     |0E-10  |0E-10  |0E-10    |0E-10  |15-15  |15-15  |25-JAN-2010|2010-01-01 00:00:00|Y       |Y     |\n",
      "|133135120.0000000000|133135120|2010-01-25 09:30:00|ENVA|ENBN|2010-01-25 09:30:00|2010-01-25 10:15:00|2010-01-25 09:30:00|2010-01-25 09:35:00|2010-01-25 10:19:00|2010-01-25 10:17:00|0E-10        |5.0000000000 |42.0000000000 |2.0000000000|4.0000000000  |45.0000000000 |49.0000000000 |0E-10|0E-10|0E-10|0E-10|0E-10|0E-10|0E-10|0E-10             |0E-10   |0E-10     |0E-10        |0E-10           |0E-10          |0E-10 |0E-10 |0E-10     |0E-10      |0E-10     |0E-10     |0E-10     |0E-10  |0E-10  |0E-10    |0E-10  |15-15  |15-15  |25-JAN-2010|2010-01-01 00:00:00|Y       |Y     |\n",
      "|133137721.0000000000|133137721|2010-01-25 11:25:00|ENVA|ENKB|2010-01-25 11:25:00|2010-01-25 12:05:00|2010-01-25 11:20:00|2010-01-25 11:25:00|2010-01-25 11:55:00|2010-01-25 11:53:00|-5.0000000000|5.0000000000 |28.0000000000 |2.0000000000|-10.0000000000|40.0000000000 |35.0000000000 |0E-10|0E-10|0E-10|0E-10|0E-10|0E-10|0E-10|0E-10             |0E-10   |0E-10     |0E-10        |0E-10           |0E-10          |0E-10 |0E-10 |0E-10     |0E-10      |0E-10     |0E-10     |0E-10     |0E-10  |0E-10  |0E-10    |0E-10  |15-15  |15-15  |25-JAN-2010|2010-01-01 00:00:00|Y       |Y     |\n",
      "|133159341.0000000000|133159341|2010-01-26 09:30:00|ENVA|ENBN|2010-01-26 09:30:00|2010-01-26 10:15:00|2010-01-26 09:30:00|2010-01-26 09:33:00|2010-01-26 10:13:00|2010-01-26 10:10:00|0E-10        |3.0000000000 |37.0000000000 |3.0000000000|-2.0000000000 |45.0000000000 |43.0000000000 |0E-10|0E-10|0E-10|0E-10|0E-10|0E-10|0E-10|0E-10             |0E-10   |0E-10     |0E-10        |0E-10           |0E-10          |0E-10 |0E-10 |0E-10     |0E-10      |0E-10     |0E-10     |0E-10     |0E-10  |0E-10  |0E-10    |0E-10  |15-15  |15-15  |26-JAN-2010|2010-01-01 00:00:00|Y       |Y     |\n",
      "|133023268.0000000000|133023268|2010-01-20 11:25:00|ENVA|ENKB|2010-01-20 11:25:00|2010-01-20 12:05:00|2010-01-20 11:20:00|2010-01-20 11:24:00|2010-01-20 11:52:00|2010-01-20 11:50:00|-5.0000000000|4.0000000000 |26.0000000000 |2.0000000000|-13.0000000000|40.0000000000 |32.0000000000 |0E-10|0E-10|0E-10|0E-10|0E-10|0E-10|0E-10|0E-10             |0E-10   |0E-10     |0E-10        |0E-10           |0E-10          |0E-10 |0E-10 |0E-10     |0E-10      |0E-10     |0E-10     |0E-10     |0E-10  |0E-10  |0E-10    |0E-10  |15-15  |15-15  |20-JAN-2010|2010-01-01 00:00:00|Y       |Y     |\n",
      "|132733368.0000000000|132733368|2010-01-07 11:25:00|ENVA|ENKB|2010-01-07 11:25:00|2010-01-07 12:05:00|2010-01-07 11:27:00|2010-01-07 11:33:00|2010-01-07 12:02:00|2010-01-07 12:00:00|2.0000000000 |6.0000000000 |27.0000000000 |2.0000000000|-3.0000000000 |40.0000000000 |35.0000000000 |0E-10|0E-10|0E-10|0E-10|0E-10|0E-10|0E-10|0E-10             |0E-10   |0E-10     |0E-10        |0E-10           |0E-10          |0E-10 |0E-10 |0E-10     |0E-10      |0E-10     |0E-10     |0E-10     |0E-10  |0E-10  |0E-10    |0E-10  |15-15  |15-15  |07-JAN-2010|2010-01-01 00:00:00|Y       |Y     |\n",
      "|132868366.0000000000|132868366|2010-01-13 15:05:00|ENVA|ENKB|2010-01-13 15:05:00|2010-01-13 15:45:00|2010-01-13 15:04:00|2010-01-13 15:09:00|2010-01-13 15:40:00|2010-01-13 15:38:00|-1.0000000000|5.0000000000 |29.0000000000 |2.0000000000|-5.0000000000 |40.0000000000 |36.0000000000 |0E-10|0E-10|0E-10|0E-10|0E-10|0E-10|0E-10|0E-10             |0E-10   |0E-10     |0E-10        |0E-10           |0E-10          |0E-10 |0E-10 |0E-10     |0E-10      |0E-10     |0E-10     |0E-10     |0E-10  |0E-10  |0E-10    |0E-10  |15-15  |15-15  |13-JAN-2010|2010-01-01 00:00:00|Y       |Y     |\n",
      "+--------------------+---------+-------------------+----+----+-------------------+-------------------+-------------------+-------------------+-------------------+-------------------+-------------+-------------+--------------+------------+--------------+--------------+--------------+-----+-----+-----+-----+-----+-----+-----+------------------+--------+----------+-------------+----------------+---------------+------+------+----------+-----------+----------+----------+----------+-------+-------+---------+-------+-------+-------+-----------+-------------------+--------+------+\n",
      "only showing top 10 rows\n",
      "\n"
     ]
    },
    {
     "name": "stderr",
     "output_type": "stream",
     "text": [
      "                                                                                \r"
     ]
    }
   ],
   "source": [
    "from pyspark.sql import SparkSession\n",
    "import os\n",
    "\n",
    "spark = (SparkSession.builder\n",
    "         .appName(\"oracle-jdbc\")\n",
    "         .config(\"spark.jars\", \"jars/ojdbc8.jar\")\n",
    "         .getOrCreate())\n",
    "\n",
    "host = os.getenv(\"ORACLE_HOST\", \"porape5.ops.cfmu.eurocontrol.be\")\n",
    "port = os.getenv(\"ORACLE_PORT\", \"1521\")\n",
    "service = os.getenv(\"ORACLE_SERVICE\", \"pe5\")\n",
    "user = os.getenv(\"ORACLE_USER\", \"prutest\")\n",
    "password = os.getenv(\"ORACLE_PASSWORD\", \"test\")\n",
    "\n",
    "url = f\"jdbc:oracle:thin:@//{host}:{port}/{service}\"\n",
    "props = {\n",
    "    \"user\": user,\n",
    "    \"password\": password,\n",
    "    \"driver\": \"oracle.jdbc.driver.OracleDriver\",\n",
    "    \"fetchSize\": \"1000\"\n",
    "}\n",
    "\n",
    "df = spark.read.jdbc(url=url, table=\"ACARS_DATA\", properties=props)  # change schema.table\n",
    "df.printSchema()\n",
    "df.show(10, truncate=False)\n"
   ]
  },
  {
   "cell_type": "code",
   "execution_count": 1,
   "id": "d2fed625-5e9c-4ae6-84db-fb5312ba1047",
   "metadata": {
    "scrolled": true
   },
   "outputs": [
    {
     "name": "stderr",
     "output_type": "stream",
     "text": [
      "Setting spark.hadoop.yarn.resourcemanager.principal to quinten.goens\n",
      "[Stage 0:>                                                          (0 + 1) / 1]\r"
     ]
    },
    {
     "name": "stdout",
     "output_type": "stream",
     "text": [
      "+-----+\n",
      "|DUMMY|\n",
      "+-----+\n",
      "|    X|\n",
      "+-----+\n",
      "\n"
     ]
    },
    {
     "name": "stderr",
     "output_type": "stream",
     "text": [
      "                                                                                \r"
     ]
    }
   ],
   "source": [
    "# PySpark (no Instant Client needed)\n",
    "from pyspark.sql import SparkSession\n",
    "import os\n",
    "\n",
    "spark = (\n",
    "    SparkSession.builder\n",
    "    .appName(\"oracle-jdbc-thin\")\n",
    "    .config(\"spark.jars\", \"jars/ojdbc8.jar\")\n",
    "    .getOrCreate()\n",
    ")\n",
    "\n",
    "host = os.getenv(\"ORACLE_HOST\", \"porape5.ops.cfmu.eurocontrol.be\")\n",
    "port = os.getenv(\"ORACLE_PORT\", \"1521\")\n",
    "service = os.getenv(\"ORACLE_SERVICE\", \"pe5\")\n",
    "user = os.getenv(\"ORACLE_USER\", \"prutest\")\n",
    "password = os.getenv(\"ORACLE_PASSWORD\", \"test\")\n",
    "\n",
    "url = f\"jdbc:oracle:thin:@//{host}:{port}/{service}\"\n",
    "\n",
    "props = {\n",
    "    \"user\": user,\n",
    "    \"password\": password,\n",
    "    \"driver\": \"oracle.jdbc.driver.OracleDriver\",\n",
    "    \"fetchSize\": \"1000\",\n",
    "}\n",
    "\n",
    "df = spark.read.jdbc(url=url, table=\"DUAL\", properties=props)\n",
    "df.show()  # should print a single row\n"
   ]
  },
  {
   "cell_type": "code",
   "execution_count": 1,
   "id": "3fb616d1-11f2-4817-a040-3d96c35914e8",
   "metadata": {
    "scrolled": true
   },
   "outputs": [
    {
     "ename": "DatabaseError",
     "evalue": "DPI-1047: Cannot locate a 64-bit Oracle Client library: \"libaio.so.1: cannot open shared object file: No such file or directory\". See https://python-oracledb.readthedocs.io/en/latest/user_guide/initialization.html for help\nHelp: https://python-oracledb.readthedocs.io/en/latest/user_guide/troubleshooting.html#dpi-1047",
     "output_type": "error",
     "traceback": [
      "\u001b[0;31m---------------------------------------------------------------------------\u001b[0m",
      "\u001b[0;31mDatabaseError\u001b[0m                             Traceback (most recent call last)",
      "Cell \u001b[0;32mIn[1], line 3\u001b[0m\n\u001b[1;32m      1\u001b[0m \u001b[38;5;28;01mimport\u001b[39;00m \u001b[38;5;21;01moracledb\u001b[39;00m\n\u001b[0;32m----> 3\u001b[0m \u001b[43moracledb\u001b[49m\u001b[38;5;241;43m.\u001b[39;49m\u001b[43minit_oracle_client\u001b[49m\u001b[43m(\u001b[49m\u001b[43m)\u001b[49m\n\u001b[1;32m      4\u001b[0m \u001b[38;5;28;01mtry\u001b[39;00m:\n\u001b[1;32m      5\u001b[0m     conn \u001b[38;5;241m=\u001b[39m oracledb\u001b[38;5;241m.\u001b[39mconnect(\n\u001b[1;32m      6\u001b[0m         user\u001b[38;5;241m=\u001b[39m\u001b[38;5;124m\"\u001b[39m\u001b[38;5;124mprutest\u001b[39m\u001b[38;5;124m\"\u001b[39m,\n\u001b[1;32m      7\u001b[0m         password\u001b[38;5;241m=\u001b[39m\u001b[38;5;124m\"\u001b[39m\u001b[38;5;124mtest\u001b[39m\u001b[38;5;124m\"\u001b[39m,\n\u001b[1;32m      8\u001b[0m         dsn\u001b[38;5;241m=\u001b[39m\u001b[38;5;124m\"\u001b[39m\u001b[38;5;124mporape5.ops.cfmu.eurocontrol.be:1521/pe5\u001b[39m\u001b[38;5;124m\"\u001b[39m  \u001b[38;5;66;03m# no \"jdbc:oracle:thin\", just host:port/service\u001b[39;00m\n\u001b[1;32m      9\u001b[0m     )\n",
      "File \u001b[0;32msrc/oracledb/impl/thick/utils.pyx:527\u001b[0m, in \u001b[0;36moracledb.thick_impl.init_oracle_client\u001b[0;34m()\u001b[0m\n",
      "File \u001b[0;32msrc/oracledb/impl/thick/utils.pyx:562\u001b[0m, in \u001b[0;36moracledb.thick_impl.init_oracle_client\u001b[0;34m()\u001b[0m\n",
      "File \u001b[0;32msrc/oracledb/impl/thick/utils.pyx:474\u001b[0m, in \u001b[0;36moracledb.thick_impl._raise_from_info\u001b[0;34m()\u001b[0m\n",
      "\u001b[0;31mDatabaseError\u001b[0m: DPI-1047: Cannot locate a 64-bit Oracle Client library: \"libaio.so.1: cannot open shared object file: No such file or directory\". See https://python-oracledb.readthedocs.io/en/latest/user_guide/initialization.html for help\nHelp: https://python-oracledb.readthedocs.io/en/latest/user_guide/troubleshooting.html#dpi-1047"
     ]
    }
   ],
   "source": [
    "import oracledb\n",
    "\n",
    "oracledb.init_oracle_client()\n",
    "try:\n",
    "    conn = oracledb.connect(\n",
    "        user=\"prutest\",\n",
    "        password=\"test\",\n",
    "        dsn=\"porape5.ops.cfmu.eurocontrol.be:1521/pe5\"  # no \"jdbc:oracle:thin\", just host:port/service\n",
    "    )\n",
    "    print(\"Thin connection works!\")\n",
    "    conn.close()\n",
    "except Exception as e:\n",
    "    print(\"Connection failed:\", e)\n"
   ]
  },
  {
   "cell_type": "code",
   "execution_count": null,
   "id": "b4360574-ea64-4b0f-a579-18d3e7a2b030",
   "metadata": {},
   "outputs": [],
   "source": []
  }
 ],
 "metadata": {
  "kernelspec": {
   "display_name": "Python 3 (ipykernel)",
   "language": "python",
   "name": "python3"
  },
  "language_info": {
   "codemirror_mode": {
    "name": "ipython",
    "version": 3
   },
   "file_extension": ".py",
   "mimetype": "text/x-python",
   "name": "python",
   "nbconvert_exporter": "python",
   "pygments_lexer": "ipython3",
   "version": "3.10.14"
  }
 },
 "nbformat": 4,
 "nbformat_minor": 5
}
