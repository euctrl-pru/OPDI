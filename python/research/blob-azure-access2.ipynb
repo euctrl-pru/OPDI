{
 "cells": [
  {
   "cell_type": "code",
   "execution_count": 95,
   "id": "93069c4e-917b-4264-92bc-3240275ff3bb",
   "metadata": {},
   "outputs": [
    {
     "name": "stdout",
     "output_type": "stream",
     "text": [
      "{'paths': [{'contentLength': '0', 'etag': '0x8DC42A3CD447BF1', 'group': '$superuser', 'isDirectory': 'true', 'lastModified': 'Tue, 12 Mar 2024 14:50:47 GMT', 'name': 'data/project/aiu.other/ec-datadump', 'owner': '739339c7-bf30-4d17-9760-77cdcc55f87c', 'permissions': 'rwxrwx--x+'}, {'contentLength': '0', 'etag': '0x8DC42A3BA7366A1', 'group': '$superuser', 'isDirectory': 'true', 'lastModified': 'Tue, 12 Mar 2024 14:50:15 GMT', 'name': 'data/project/aiu.other/processed_data', 'owner': '739339c7-bf30-4d17-9760-77cdcc55f87c', 'permissions': 'rwxrwx--x+'}]}\n"
     ]
    }
   ],
   "source": [
    "import xml.etree.ElementTree as ET\n",
    "import datetime\n",
    "import os\n",
    "import requests\n",
    "import json\n",
    "from requests_kerberos import HTTPKerberosAuth\n",
    "import time\n",
    "\n",
    "# !grep  -A1 fs.azure.ext.cab.address /etc/hadoop/conf/core-site.xml  | tail -1\n",
    "\n",
    "def get_token(id_broker_group = \"eur-app-aiu-dev\", dl_name = \"dev\"):\n",
    "    id_broker=f'https://dl-{dl_name}-idbroker0.az-{dl_name}.x9er-zkvz.cloudera.site:8444/gateway/'\n",
    "    r = requests.get(f\"{id_broker}dt/knoxtoken/api/v1/token\", auth=HTTPKerberosAuth())\n",
    "    token=r.json()['access_token']\n",
    "\n",
    "    url = f\"{id_broker}azure-cab/cab/api/v1/credentials/group/{id_broker_group}\"\n",
    "    headers = {\n",
    "            'Authorization': \"Bearer \"+ token,\n",
    "            'cache-control': \"no-cache\",\n",
    "            'Accept': 'application/json' \n",
    "    }\n",
    "    token = requests.request(\"GET\", url, headers=headers).json()\n",
    "    return token\n",
    "\n",
    "def get_adls_gen2_folder_contents(storage_account, container, folder, access_token):\n",
    "    \"\"\"\n",
    "    List the contents of a folder in an Azure Data Lake Storage Gen2 filesystem.\n",
    "    \n",
    "    Args:\n",
    "        storage_account (str): The storage account name.\n",
    "        container (str): The container name within the ADLS Gen2 account.\n",
    "        folder (str): The folder path to list contents of.\n",
    "        access_token (str): The OAuth2 access token for authentication.\n",
    "    \n",
    "    Returns:\n",
    "        response.content: The HTTP response content from the Azure Storage REST API.\n",
    "    \"\"\"\n",
    "    date = datetime.datetime.utcnow().strftime('%a, %d %b %Y %H:%M:%S GMT')\n",
    "    url = f'https://{storage_account}.dfs.core.windows.net/{container}?resource=filesystem&recursive=false&directory={folder}'\n",
    "    headers = {\n",
    "        'Authorization': \"Bearer \" + access_token,\n",
    "        'x-ms-version': '2019-12-12',\n",
    "        'x-ms-date': date,\n",
    "    }\n",
    "    response = requests.get(url, headers=headers)\n",
    "    return response.json()\n",
    "\n",
    "# Example usage\n",
    "storage_account = \"cdpdldev0\"  # Adjusted to the account mentioned in the HDFS command\n",
    "container = \"storage-fs\"  # Kept as is, per your initial input\n",
    "folder = 'data/project/aiu.other/'  # Adjusted folder path based on the HDFS command output\n",
    "access_token = get_token()['access_token']  # Replace YOUR_ACCESS_TOKEN with your actual access token\n",
    "\n",
    "contents = get_adls_gen2_folder_contents(storage_account, container, folder, access_token)\n",
    "print(contents)"
   ]
  },
  {
   "cell_type": "code",
   "execution_count": null,
   "id": "c97f96bb-d74f-4e4c-abc0-4f8686b5aeb6",
   "metadata": {},
   "outputs": [],
   "source": []
  },
  {
   "cell_type": "code",
   "execution_count": null,
   "id": "8d1ffc45-89c7-403f-a400-cc3ca812ebb8",
   "metadata": {},
   "outputs": [],
   "source": []
  }
 ],
 "metadata": {
  "kernelspec": {
   "display_name": "Python 3 (ipykernel)",
   "language": "python",
   "name": "python3"
  },
  "language_info": {
   "codemirror_mode": {
    "name": "ipython",
    "version": 3
   },
   "file_extension": ".py",
   "mimetype": "text/x-python",
   "name": "python",
   "nbconvert_exporter": "python",
   "pygments_lexer": "ipython3",
   "version": "3.9.11"
  }
 },
 "nbformat": 4,
 "nbformat_minor": 5
}
