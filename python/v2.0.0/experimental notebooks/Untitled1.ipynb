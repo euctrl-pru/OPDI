{
 "cells": [
  {
   "cell_type": "code",
   "execution_count": null,
   "id": "6762afa6-5334-4651-bbb8-c5b27bf8efaf",
   "metadata": {},
   "outputs": [
    {
     "name": "stdout",
     "output_type": "stream",
     "text": [
      "/home/cdsw/data/OPDI/v002/measurements/measurements_20240629_20240709.parquet\n",
      "/home/cdsw/data/OPDI/v002/measurements/measurements_20240619_20240629.parquet\n",
      "/home/cdsw/data/OPDI/v002/measurements/measurements_20240609_20240619.parquet\n",
      "/home/cdsw/data/OPDI/v002/measurements/measurements_20240530_20240609.parquet\n"
     ]
    }
   ],
   "source": [
    "import os\n",
    "import pandas as pd\n",
    "import glob\n",
    "\n",
    "def clean_and_save_data(input_dir: str, output_dir: str):\n",
    "    \"\"\"\n",
    "    Reads each .parquet file from the input directory, removes duplicate rows,\n",
    "    and writes the cleaned data to .parquet and .csv.gz files in the output directory\n",
    "    using the same filename as the original files.\n",
    "\n",
    "    Parameters:\n",
    "    input_dir (str): Directory containing the .parquet files to read.\n",
    "    output_dir (str): Directory where the cleaned files will be saved.\n",
    "    \"\"\"\n",
    "    # Create the output directory if it does not exist\n",
    "    os.makedirs(output_dir, exist_ok=True)\n",
    "\n",
    "    # Get all .parquet files in the input directory\n",
    "    parquet_files = glob.glob(os.path.join(input_dir, \"*.parquet\"))\n",
    "\n",
    "    # Process each .parquet file individually\n",
    "    for file in parquet_files:\n",
    "        print(file)\n",
    "        # Read the .parquet file into a DataFrame\n",
    "        df = pd.read_parquet(file)\n",
    "        \n",
    "        # Drop duplicate rows\n",
    "        df.drop_duplicates(inplace=True)\n",
    "\n",
    "        # Extract the base filename without the extension\n",
    "        base_filename = os.path.basename(file).split('.')[0]\n",
    "\n",
    "        # Define the output paths for .parquet and .csv.gz files\n",
    "        parquet_output_path = os.path.join(output_dir, f'{base_filename}.parquet')\n",
    "        csv_output_path = os.path.join(output_dir, f'{base_filename}.csv.gz')\n",
    "\n",
    "        # Write the cleaned DataFrame to .parquet\n",
    "        df.to_parquet(parquet_output_path)\n",
    "\n",
    "        # Write the cleaned DataFrame to .csv.gz\n",
    "        df.to_csv(csv_output_path, index=False, compression='gzip')\n",
    "\n",
    "if __name__ == \"__main__\":\n",
    "    input_directory = '/home/cdsw/data/OPDI/v002/measurements'\n",
    "    output_directory = '/home/cdsw/data/OPDI/v002/measurements_clean/'\n",
    "    clean_and_save_data(input_directory, output_directory)\n"
   ]
  },
  {
   "cell_type": "code",
   "execution_count": null,
   "id": "b1483c99-9600-478c-bdac-4aea4e2df85a",
   "metadata": {},
   "outputs": [],
   "source": []
  }
 ],
 "metadata": {
  "kernelspec": {
   "display_name": "Python 3 (ipykernel)",
   "language": "python",
   "name": "python3"
  },
  "language_info": {
   "codemirror_mode": {
    "name": "ipython",
    "version": 3
   },
   "file_extension": ".py",
   "mimetype": "text/x-python",
   "name": "python",
   "nbconvert_exporter": "python",
   "pygments_lexer": "ipython3",
   "version": "3.9.11"
  }
 },
 "nbformat": 4,
 "nbformat_minor": 5
}
