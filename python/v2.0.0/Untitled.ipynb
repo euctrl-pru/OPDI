{
 "cells": [
  {
   "cell_type": "code",
   "execution_count": 15,
   "id": "8e3341d2-b4cd-4813-993b-41696119f71c",
   "metadata": {},
   "outputs": [],
   "source": []
  },
  {
   "cell_type": "code",
   "execution_count": 1,
   "id": "8c87c9bf-bd1b-4dc0-8cb9-243aae1e4b09",
   "metadata": {},
   "outputs": [],
   "source": [
    "# Custom functions\n",
    "from datetime import datetime, date\n",
    "import dateutil.relativedelta\n",
    "import calendar\n",
    "\n",
    "def generate_months(start_date, end_date):\n",
    "    \"\"\"Generate a list of dates corresponding to the first day of each month between two dates.\n",
    "\n",
    "    Args:\n",
    "    start_date (datetime.date): The starting date.\n",
    "    end_date (datetime.date): The ending date.\n",
    "\n",
    "    Returns:\n",
    "    list: A list of date objects for the first day of each month within the specified range.\n",
    "    \"\"\"\n",
    "    current = start_date\n",
    "    months = []\n",
    "    while current <= end_date:\n",
    "        months.append(current)\n",
    "        # Increment month\n",
    "        month = current.month\n",
    "        year = current.year\n",
    "        if month == 12:\n",
    "            current = date(year + 1, 1, 1)\n",
    "        else:\n",
    "            current = date(year, month + 1, 1)\n",
    "    return months\n",
    "\n",
    "def get_start_end_of_month(date):\n",
    "    \"\"\"Return a datetime object for the first and last second  of the given month and year.\"\"\"\n",
    "    year = date.year\n",
    "    month = date.month\n",
    "    \n",
    "    first_second = datetime(year, month, 1, 0, 0, 0)\n",
    "    last_day = calendar.monthrange(year, month)[1]\n",
    "    last_second = datetime(year, month, last_day, 23, 59, 59)\n",
    "    return first_second.timestamp(), last_second.timestamp()"
   ]
  },
  {
   "cell_type": "code",
   "execution_count": 6,
   "id": "10591842-6807-426e-986b-11b88602e263",
   "metadata": {},
   "outputs": [
    {
     "name": "stdout",
     "output_type": "stream",
     "text": [
      "Extracting flight table from 2022-01-01 until 2024-07-01...\n"
     ]
    }
   ],
   "source": [
    "## Date range\n",
    "start_date = date(2022, 1, 1)\n",
    "end_date = date(2024, 7, 1)\n",
    "\n",
    "print(f'Extracting flight table from {start_date} until {end_date}...')\n",
    "\n",
    "months = generate_months(start_date, end_date)"
   ]
  },
  {
   "cell_type": "code",
   "execution_count": 14,
   "id": "78f7e180-dfe7-4bf2-9a30-0e97b355dc26",
   "metadata": {},
   "outputs": [
    {
     "name": "stdout",
     "output_type": "stream",
     "text": [
      "20220101 20220131\n",
      "20220201 20220228\n",
      "20220301 20220331\n",
      "20220401 20220430\n",
      "20220501 20220531\n",
      "20220601 20220630\n",
      "20220701 20220731\n",
      "20220801 20220831\n",
      "20220901 20220930\n",
      "20221001 20221031\n",
      "20221101 20221130\n",
      "20221201 20221231\n",
      "20230101 20230131\n",
      "20230201 20230228\n",
      "20230301 20230331\n",
      "20230401 20230430\n",
      "20230501 20230531\n",
      "20230601 20230630\n",
      "20230701 20230731\n",
      "20230801 20230831\n",
      "20230901 20230930\n",
      "20231001 20231031\n",
      "20231101 20231130\n",
      "20231201 20231231\n",
      "20240101 20240131\n",
      "20240201 20240229\n",
      "20240301 20240331\n",
      "20240401 20240430\n",
      "20240501 20240531\n",
      "20240601 20240630\n",
      "20240701 20240731\n"
     ]
    }
   ],
   "source": [
    "import pandas as pd\n",
    "for month in months:\n",
    "    start_month_unix, end_month_unix = get_start_end_of_month(month)\n",
    "    start_month_str = pd.Timestamp(start_month_unix, unit = 's').strftime('%Y%m%d')\n",
    "    end_month_str = pd.Timestamp(end_month_unix, unit = 's').strftime('%Y%m%d')\n",
    "    print(start_month_str, end_month_str)"
   ]
  },
  {
   "cell_type": "code",
   "execution_count": 19,
   "id": "63294adc-d7b7-491b-afa4-7a0fa2002ec6",
   "metadata": {},
   "outputs": [],
   "source": [
    "wef = date(2022,6,1)\n",
    "til = date(2023,7,1)"
   ]
  },
  {
   "cell_type": "code",
   "execution_count": 20,
   "id": "39c9f9dc-7214-4603-9284-79c11a6ffaeb",
   "metadata": {},
   "outputs": [
    {
     "data": {
      "text/plain": [
       "[datetime.date(2022, 6, 1),\n",
       " datetime.date(2022, 7, 1),\n",
       " datetime.date(2022, 8, 1),\n",
       " datetime.date(2022, 9, 1),\n",
       " datetime.date(2022, 10, 1),\n",
       " datetime.date(2022, 11, 1),\n",
       " datetime.date(2022, 12, 1),\n",
       " datetime.date(2023, 1, 1),\n",
       " datetime.date(2023, 2, 1),\n",
       " datetime.date(2023, 3, 1),\n",
       " datetime.date(2023, 4, 1),\n",
       " datetime.date(2023, 5, 1),\n",
       " datetime.date(2023, 6, 1),\n",
       " datetime.date(2023, 7, 1)]"
      ]
     },
     "execution_count": 20,
     "metadata": {},
     "output_type": "execute_result"
    }
   ],
   "source": [
    "generate_months(wef,til)"
   ]
  },
  {
   "cell_type": "code",
   "execution_count": null,
   "id": "1f9db41e-0bc1-4b58-937c-aa5c5f431c60",
   "metadata": {},
   "outputs": [],
   "source": []
  }
 ],
 "metadata": {
  "kernelspec": {
   "display_name": "Python 3 (ipykernel)",
   "language": "python",
   "name": "python3"
  },
  "language_info": {
   "codemirror_mode": {
    "name": "ipython",
    "version": 3
   },
   "file_extension": ".py",
   "mimetype": "text/x-python",
   "name": "python",
   "nbconvert_exporter": "python",
   "pygments_lexer": "ipython3",
   "version": "3.9.11"
  }
 },
 "nbformat": 4,
 "nbformat_minor": 5
}
