{
 "cells": [
  {
   "cell_type": "code",
   "execution_count": 14,
   "id": "8c87c9bf-bd1b-4dc0-8cb9-243aae1e4b09",
   "metadata": {},
   "outputs": [],
   "source": []
  },
  {
   "cell_type": "code",
   "execution_count": 15,
   "id": "10591842-6807-426e-986b-11b88602e263",
   "metadata": {},
   "outputs": [
    {
     "data": {
      "text/plain": [
       "\u001b[0;31mSignature:\u001b[0m \u001b[0mgenerate_months\u001b[0m\u001b[0;34m(\u001b[0m\u001b[0mstart_date\u001b[0m\u001b[0;34m,\u001b[0m \u001b[0mend_date\u001b[0m\u001b[0;34m)\u001b[0m\u001b[0;34m\u001b[0m\u001b[0;34m\u001b[0m\u001b[0m\n",
       "\u001b[0;31mDocstring:\u001b[0m\n",
       "Generate a list of dates corresponding to the first day of each month between two dates.\n",
       "\n",
       "Args:\n",
       "start_date (datetime.date): The starting date.\n",
       "end_date (datetime.date): The ending date.\n",
       "\n",
       "Returns:\n",
       "list: A list of date objects for the first day of each month within the specified range.\n",
       "\u001b[0;31mFile:\u001b[0m      ~/python/v2.0.0/helperfunctions.py\n",
       "\u001b[0;31mType:\u001b[0m      function\n"
      ]
     },
     "metadata": {},
     "output_type": "display_data"
    }
   ],
   "source": []
  },
  {
   "cell_type": "code",
   "execution_count": 19,
   "id": "63294adc-d7b7-491b-afa4-7a0fa2002ec6",
   "metadata": {},
   "outputs": [],
   "source": [
    "wef = date(2022,6,1)\n",
    "til = date(2023,7,1)"
   ]
  },
  {
   "cell_type": "code",
   "execution_count": 20,
   "id": "39c9f9dc-7214-4603-9284-79c11a6ffaeb",
   "metadata": {},
   "outputs": [
    {
     "data": {
      "text/plain": [
       "[datetime.date(2022, 6, 1),\n",
       " datetime.date(2022, 7, 1),\n",
       " datetime.date(2022, 8, 1),\n",
       " datetime.date(2022, 9, 1),\n",
       " datetime.date(2022, 10, 1),\n",
       " datetime.date(2022, 11, 1),\n",
       " datetime.date(2022, 12, 1),\n",
       " datetime.date(2023, 1, 1),\n",
       " datetime.date(2023, 2, 1),\n",
       " datetime.date(2023, 3, 1),\n",
       " datetime.date(2023, 4, 1),\n",
       " datetime.date(2023, 5, 1),\n",
       " datetime.date(2023, 6, 1),\n",
       " datetime.date(2023, 7, 1)]"
      ]
     },
     "execution_count": 20,
     "metadata": {},
     "output_type": "execute_result"
    }
   ],
   "source": [
    "generate_months(wef,til)"
   ]
  },
  {
   "cell_type": "code",
   "execution_count": null,
   "id": "1f9db41e-0bc1-4b58-937c-aa5c5f431c60",
   "metadata": {},
   "outputs": [],
   "source": []
  }
 ],
 "metadata": {
  "kernelspec": {
   "display_name": "Python 3 (ipykernel)",
   "language": "python",
   "name": "python3"
  },
  "language_info": {
   "codemirror_mode": {
    "name": "ipython",
    "version": 3
   },
   "file_extension": ".py",
   "mimetype": "text/x-python",
   "name": "python",
   "nbconvert_exporter": "python",
   "pygments_lexer": "ipython3",
   "version": "3.9.11"
  }
 },
 "nbformat": 4,
 "nbformat_minor": 5
}
