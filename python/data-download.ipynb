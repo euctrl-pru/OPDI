{
 "cells": [
  {
   "cell_type": "code",
   "execution_count": 1,
   "metadata": {},
   "outputs": [],
   "source": []
  },
  {
   "cell_type": "code",
   "execution_count": 24,
   "metadata": {},
   "outputs": [
    {
     "name": "stdout",
     "output_type": "stream",
     "text": [
      "EGLL EIDW 2023-06-07 15:57:58.801633\n",
      "CPU times: user 120 µs, sys: 54 µs, total: 174 µs\n",
      "Wall time: 183 µs\n",
      "Done!\n",
      "\n",
      "EGLL EKCH 2023-06-07 15:57:58.802000\n",
      "CPU times: user 12 µs, sys: 0 ns, total: 12 µs\n",
      "Wall time: 13.8 µs\n",
      "Done!\n",
      "\n",
      "EGLL BIRK 2023-06-07 15:57:58.802150\n",
      "CPU times: user 11 µs, sys: 1 µs, total: 12 µs\n",
      "Wall time: 11.9 µs\n",
      "Done!\n",
      "\n",
      "EGLL ESSA 2023-06-07 15:57:58.802282\n",
      "CPU times: user 9 µs, sys: 0 ns, total: 9 µs\n",
      "Wall time: 11 µs\n",
      "Done!\n",
      "\n",
      "EIDW EKCH 2023-06-07 15:57:58.802407\n",
      "CPU times: user 9 µs, sys: 1 µs, total: 10 µs\n",
      "Wall time: 10.3 µs\n",
      "Done!\n",
      "\n",
      "EIDW BIRK 2023-06-07 15:57:58.802530\n",
      "CPU times: user 8 µs, sys: 0 ns, total: 8 µs\n",
      "Wall time: 10 µs\n",
      "Done!\n",
      "\n",
      "EIDW ESSA 2023-06-07 15:57:58.802653\n",
      "CPU times: user 8 µs, sys: 1e+03 ns, total: 9 µs\n",
      "Wall time: 10.3 µs\n",
      "Done!\n",
      "\n",
      "EKCH BIRK 2023-06-07 15:57:58.802774\n",
      "CPU times: user 9 µs, sys: 1e+03 ns, total: 10 µs\n",
      "Wall time: 11 µs\n",
      "Done!\n",
      "\n",
      "EKCH ESSA 2023-06-07 15:57:58.802892\n",
      "CPU times: user 9 µs, sys: 0 ns, total: 9 µs\n",
      "Wall time: 11 µs\n",
      "Done!\n",
      "\n",
      "BIRK ESSA 2023-06-07 15:57:58.803010\n",
      "CPU times: user 9 µs, sys: 1e+03 ns, total: 10 µs\n",
      "Wall time: 10 µs\n",
      "Done!\n",
      "\n"
     ]
    }
   ],
   "source": [
    "from traffic.data.adsb.opensky_impala import Impala\n",
    "import pandas as pd\n",
    "from pathlib import Path\n",
    "from traffic.data import opensky\n",
    "import itertools\n",
    "from datetime import datetime\n",
    "\n",
    "cache_dir_path = \"/Users/quintengoens/opensky_cache\"\n",
    "cache_dir = Path(cache_dir_path)\n",
    "\n",
    "\n",
    "def fetch_data(start_time, end_time, ADEP, ADES):\n",
    "    # If the file already exists, do not rerun\n",
    "    if Path(f\"data/borealis-osn-3dpi_{ADEP}_{ADES}_{start_time}_{end_time}.parquet.gz\").exists():\n",
    "        return None\n",
    "    \n",
    "    df_dep = opensky.history(\n",
    "        start_time=start_time,\n",
    "        end_time=end_time,\n",
    "        departure_airport=ADEP,\n",
    "        arrival_airport=ADES,\n",
    "    )\n",
    "    \n",
    "    df_arr = opensky.history(\n",
    "        start_time=start_time,\n",
    "        end_time=end_time,\n",
    "        departure_airport=ADES,\n",
    "        arrival_airport=ADEP,\n",
    "    )\n",
    "\n",
    "    # Add the rows together\n",
    "    df = pd.concat([df_dep, df_arr])\n",
    "    \n",
    "    # Write to compressed parquet file\n",
    "    df.to_parquet(f\"data/borealis-osn-3dpi_{ADEP}_{ADES}_{start_time}_{end_time}.parquet.gz\", compression=\"gzip\")\n",
    "\n",
    "    return None\n",
    "\n",
    "\n",
    "# Apply the function on all the airport combinations possible \n",
    "apts = [\"EGLL\", \"EIDW\", \"EKCH\", \"BIRK\", \"ESSA\"]\n",
    "\n",
    "# Calculate all the combinations of apt pairs\n",
    "start_time = \"2023-01-01 00:00:00\"\n",
    "end_time = \"2023-06-01 00:00:00\"\n",
    "\n",
    "for apt1, apt2 in list(itertools.combinations(apts, 2)):\n",
    "    print(apt1, apt2, datetime.now())\n",
    "    %time fetch_data(start_time, end_time, apt1, apt2)\n",
    "    \n",
    "    print(\"Done!\")\n",
    "    print()"
   ]
  },
  {
   "cell_type": "code",
   "execution_count": 16,
   "metadata": {},
   "outputs": [
    {
     "data": {
      "text/plain": [
       "[('EGLL', 'EIDW'),\n",
       " ('EGLL', 'EKCH'),\n",
       " ('EGLL', 'BIRK'),\n",
       " ('EGLL', 'ESSA'),\n",
       " ('EIDW', 'EKCH'),\n",
       " ('EIDW', 'BIRK'),\n",
       " ('EIDW', 'ESSA'),\n",
       " ('EKCH', 'BIRK'),\n",
       " ('EKCH', 'ESSA'),\n",
       " ('BIRK', 'ESSA')]"
      ]
     },
     "execution_count": 16,
     "metadata": {},
     "output_type": "execute_result"
    }
   ],
   "source": []
  },
  {
   "cell_type": "code",
   "execution_count": 1,
   "metadata": {},
   "outputs": [
    {
     "name": "stdout",
     "output_type": "stream",
     "text": [
      "ZBAA 2018\n"
     ]
    },
    {
     "data": {
      "text/html": [
       "<pre style=\"white-space:pre;overflow-x:auto;line-height:normal;font-family:Menlo,'DejaVu Sans Mono',consolas,'Courier New',monospace\"></pre>\n"
      ],
      "text/plain": [
       "\u001b[?25l"
      ]
     },
     "metadata": {},
     "output_type": "display_data"
    },
    {
     "data": {
      "application/vnd.jupyter.widget-view+json": {
       "model_id": "15ab3df402df4bc49622f4caa8d93ffc",
       "version_major": 2,
       "version_minor": 0
      },
      "text/plain": [
       "Output()"
      ]
     },
     "metadata": {},
     "output_type": "display_data"
    },
    {
     "data": {
      "text/html": [
       "<pre style=\"white-space:pre;overflow-x:auto;line-height:normal;font-family:Menlo,'DejaVu Sans Mono',consolas,'Courier New',monospace\">\n",
       "</pre>\n"
      ],
      "text/plain": [
       "\n",
       "\u001b[?25h"
      ]
     },
     "metadata": {},
     "output_type": "display_data"
    },
    {
     "ename": "NoValidConnectionsError",
     "evalue": "[Errno None] Unable to connect to port 2230 on 194.209.200.3",
     "output_type": "error",
     "traceback": [
      "\u001b[0;31m---------------------------------------------------------------------------\u001b[0m",
      "\u001b[0;31mNoValidConnectionsError\u001b[0m                   Traceback (most recent call last)",
      "Cell \u001b[0;32mIn[1], line 50\u001b[0m\n\u001b[1;32m     48\u001b[0m \u001b[39mfor\u001b[39;00m airport \u001b[39min\u001b[39;00m airports:\n\u001b[1;32m     49\u001b[0m     \u001b[39mprint\u001b[39m(airport, \u001b[39m2018\u001b[39m)\n\u001b[0;32m---> 50\u001b[0m     flight_list\u001b[39m.\u001b[39mappend(impala\u001b[39m.\u001b[39;49mflightlist(\n\u001b[1;32m     51\u001b[0m     \u001b[39m\"\u001b[39;49m\u001b[39m2018-08-01 00:01\u001b[39;49m\u001b[39m\"\u001b[39;49m,\n\u001b[1;32m     52\u001b[0m     \u001b[39m\"\u001b[39;49m\u001b[39m2018-08-07 23:59\u001b[39;49m\u001b[39m\"\u001b[39;49m,\n\u001b[1;32m     53\u001b[0m     departure_airport \u001b[39m=\u001b[39;49m airport))\n\u001b[1;32m     55\u001b[0m     \u001b[39mprint\u001b[39m(airport, \u001b[39m2019\u001b[39m)\n\u001b[1;32m     56\u001b[0m     flight_list\u001b[39m.\u001b[39mappend(impala\u001b[39m.\u001b[39mflightlist(\n\u001b[1;32m     57\u001b[0m     \u001b[39m\"\u001b[39m\u001b[39m2019-08-01 00:01\u001b[39m\u001b[39m\"\u001b[39m,\n\u001b[1;32m     58\u001b[0m     \u001b[39m\"\u001b[39m\u001b[39m2019-08-07 23:59\u001b[39m\u001b[39m\"\u001b[39m,\n\u001b[1;32m     59\u001b[0m     departure_airport \u001b[39m=\u001b[39m airport))\n",
      "File \u001b[0;32m~/opt/anaconda3/envs/traffic/lib/python3.9/site-packages/traffic/data/adsb/opensky_impala.py:676\u001b[0m, in \u001b[0;36mImpala.flightlist\u001b[0;34m(self, start, stop, departure_airport, arrival_airport, airport, callsign, icao24, cached, compress, limit, progressbar, *args)\u001b[0m\n\u001b[1;32m    664\u001b[0m _log\u001b[39m.\u001b[39minfo(\n\u001b[1;32m    665\u001b[0m     \u001b[39mf\u001b[39m\u001b[39m\"\u001b[39m\u001b[39mSending request between time \u001b[39m\u001b[39m{\u001b[39;00mbt\u001b[39m}\u001b[39;00m\u001b[39m and \u001b[39m\u001b[39m{\u001b[39;00mat\u001b[39m}\u001b[39;00m\u001b[39m \u001b[39m\u001b[39m\"\u001b[39m\n\u001b[1;32m    666\u001b[0m     \u001b[39mf\u001b[39m\u001b[39m\"\u001b[39m\u001b[39mand day \u001b[39m\u001b[39m{\u001b[39;00mbefore_day\u001b[39m}\u001b[39;00m\u001b[39m and \u001b[39m\u001b[39m{\u001b[39;00mafter_day\u001b[39m}\u001b[39;00m\u001b[39m\"\u001b[39m\n\u001b[1;32m    667\u001b[0m )\n\u001b[1;32m    669\u001b[0m request \u001b[39m=\u001b[39m query_str\u001b[39m.\u001b[39mformat(\n\u001b[1;32m    670\u001b[0m     columns\u001b[39m=\u001b[39mcolumns,\n\u001b[1;32m    671\u001b[0m     before_day\u001b[39m=\u001b[39mbefore_day\u001b[39m.\u001b[39mtimestamp(),\n\u001b[1;32m    672\u001b[0m     after_day\u001b[39m=\u001b[39mafter_day\u001b[39m.\u001b[39mtimestamp(),\n\u001b[1;32m    673\u001b[0m     other_params\u001b[39m=\u001b[39mother_params,\n\u001b[1;32m    674\u001b[0m )\n\u001b[0;32m--> 676\u001b[0m df \u001b[39m=\u001b[39m \u001b[39mself\u001b[39;49m\u001b[39m.\u001b[39;49m_impala(\n\u001b[1;32m    677\u001b[0m     request, columns\u001b[39m=\u001b[39;49mcolumns, cached\u001b[39m=\u001b[39;49mcached, compress\u001b[39m=\u001b[39;49mcompress\n\u001b[1;32m    678\u001b[0m )\n\u001b[1;32m    680\u001b[0m \u001b[39mif\u001b[39;00m df \u001b[39mis\u001b[39;00m \u001b[39mNone\u001b[39;00m:\n\u001b[1;32m    681\u001b[0m     \u001b[39mcontinue\u001b[39;00m\n",
      "File \u001b[0;32m~/opt/anaconda3/envs/traffic/lib/python3.9/site-packages/traffic/data/adsb/opensky_impala.py:332\u001b[0m, in \u001b[0;36mImpala._impala\u001b[0;34m(self, request, columns, cached, compress)\u001b[0m\n\u001b[1;32m    330\u001b[0m \u001b[39mif\u001b[39;00m \u001b[39mnot\u001b[39;00m \u001b[39mself\u001b[39m\u001b[39m.\u001b[39mconnected:\n\u001b[1;32m    331\u001b[0m     _log\u001b[39m.\u001b[39minfo(\u001b[39m\"\u001b[39m\u001b[39mConnecting the database\u001b[39m\u001b[39m\"\u001b[39m)\n\u001b[0;32m--> 332\u001b[0m     \u001b[39mself\u001b[39;49m\u001b[39m.\u001b[39;49m_connect()\n\u001b[1;32m    334\u001b[0m \u001b[39m# bug fix for when we write a request with \"\"\" starting with \\n\u001b[39;00m\n\u001b[1;32m    335\u001b[0m request \u001b[39m=\u001b[39m request\u001b[39m.\u001b[39mreplace(\u001b[39m\"\u001b[39m\u001b[39m\\n\u001b[39;00m\u001b[39m\"\u001b[39m, \u001b[39m\"\u001b[39m\u001b[39m \u001b[39m\u001b[39m\"\u001b[39m)\n",
      "File \u001b[0;32m~/opt/anaconda3/envs/traffic/lib/python3.9/site-packages/traffic/data/adsb/opensky_impala.py:294\u001b[0m, in \u001b[0;36mImpala._connect\u001b[0;34m(self)\u001b[0m\n\u001b[1;32m    291\u001b[0m     _log\u001b[39m.\u001b[39minfo(\u001b[39mf\u001b[39m\u001b[39m\"\u001b[39m\u001b[39mUsing ProxyCommand: \u001b[39m\u001b[39m{\u001b[39;00m\u001b[39mself\u001b[39m\u001b[39m.\u001b[39mproxy_command\u001b[39m}\u001b[39;00m\u001b[39m\"\u001b[39m)\n\u001b[1;32m    292\u001b[0m     extra_args[\u001b[39m\"\u001b[39m\u001b[39msock\u001b[39m\u001b[39m\"\u001b[39m] \u001b[39m=\u001b[39m paramiko\u001b[39m.\u001b[39mProxyCommand(\u001b[39mself\u001b[39m\u001b[39m.\u001b[39mproxy_command)\n\u001b[0;32m--> 294\u001b[0m client\u001b[39m.\u001b[39;49mconnect(\n\u001b[1;32m    295\u001b[0m     \u001b[39m\"\u001b[39;49m\u001b[39mdata.opensky-network.org\u001b[39;49m\u001b[39m\"\u001b[39;49m,\n\u001b[1;32m    296\u001b[0m     port\u001b[39m=\u001b[39;49m\u001b[39m2230\u001b[39;49m,\n\u001b[1;32m    297\u001b[0m     username\u001b[39m=\u001b[39;49m\u001b[39mself\u001b[39;49m\u001b[39m.\u001b[39;49musername,\n\u001b[1;32m    298\u001b[0m     password\u001b[39m=\u001b[39;49m\u001b[39mself\u001b[39;49m\u001b[39m.\u001b[39;49mpassword,\n\u001b[1;32m    299\u001b[0m     look_for_keys\u001b[39m=\u001b[39;49m\u001b[39mFalse\u001b[39;49;00m,\n\u001b[1;32m    300\u001b[0m     allow_agent\u001b[39m=\u001b[39;49m\u001b[39mFalse\u001b[39;49;00m,\n\u001b[1;32m    301\u001b[0m     compress\u001b[39m=\u001b[39;49m\u001b[39mTrue\u001b[39;49;00m,\n\u001b[1;32m    302\u001b[0m     \u001b[39m*\u001b[39;49m\u001b[39m*\u001b[39;49mextra_args,  \u001b[39m# type: ignore\u001b[39;49;00m\n\u001b[1;32m    303\u001b[0m )\n\u001b[1;32m    304\u001b[0m \u001b[39mself\u001b[39m\u001b[39m.\u001b[39mstdin, \u001b[39mself\u001b[39m\u001b[39m.\u001b[39mstdout, \u001b[39mself\u001b[39m\u001b[39m.\u001b[39mstderr \u001b[39m=\u001b[39m client\u001b[39m.\u001b[39mexec_command(\n\u001b[1;32m    305\u001b[0m     \u001b[39m\"\u001b[39m\u001b[39m-B\u001b[39m\u001b[39m\"\u001b[39m, bufsize\u001b[39m=\u001b[39m\u001b[39m-\u001b[39m\u001b[39m1\u001b[39m, get_pty\u001b[39m=\u001b[39m\u001b[39mTrue\u001b[39;00m\n\u001b[1;32m    306\u001b[0m )\n\u001b[1;32m    307\u001b[0m \u001b[39mself\u001b[39m\u001b[39m.\u001b[39mconnected \u001b[39m=\u001b[39m \u001b[39mTrue\u001b[39;00m\n",
      "File \u001b[0;32m~/opt/anaconda3/envs/traffic/lib/python3.9/site-packages/paramiko/client.py:381\u001b[0m, in \u001b[0;36mSSHClient.connect\u001b[0;34m(self, hostname, port, username, password, pkey, key_filename, timeout, allow_agent, look_for_keys, compress, sock, gss_auth, gss_kex, gss_deleg_creds, gss_host, banner_timeout, auth_timeout, gss_trust_dns, passphrase, disabled_algorithms, transport_factory)\u001b[0m\n\u001b[1;32m    375\u001b[0m     \u001b[39m# Make sure we explode usefully if no address family attempts\u001b[39;00m\n\u001b[1;32m    376\u001b[0m     \u001b[39m# succeeded. We've no way of knowing which error is the \"right\"\u001b[39;00m\n\u001b[1;32m    377\u001b[0m     \u001b[39m# one, so we construct a hybrid exception containing all the real\u001b[39;00m\n\u001b[1;32m    378\u001b[0m     \u001b[39m# ones, of a subclass that client code should still be watching for\u001b[39;00m\n\u001b[1;32m    379\u001b[0m     \u001b[39m# (socket.error)\u001b[39;00m\n\u001b[1;32m    380\u001b[0m     \u001b[39mif\u001b[39;00m \u001b[39mlen\u001b[39m(errors) \u001b[39m==\u001b[39m \u001b[39mlen\u001b[39m(to_try):\n\u001b[0;32m--> 381\u001b[0m         \u001b[39mraise\u001b[39;00m NoValidConnectionsError(errors)\n\u001b[1;32m    383\u001b[0m \u001b[39mif\u001b[39;00m transport_factory \u001b[39mis\u001b[39;00m \u001b[39mNone\u001b[39;00m:\n\u001b[1;32m    384\u001b[0m     transport_factory \u001b[39m=\u001b[39m Transport\n",
      "\u001b[0;31mNoValidConnectionsError\u001b[0m: [Errno None] Unable to connect to port 2230 on 194.209.200.3"
     ]
    }
   ],
   "source": [
    "\n",
    "\n",
    "\n",
    "\n",
    "# For each airport in airports we get the flight list for the period 2018-08-01 00:01 to 2018-08-07 23:59 and append it to a list\n",
    "\n",
    "airports = airports_chn + airports_eur\n",
    "\n",
    "flight_list = []\n",
    "for airport in airports:\n",
    "    print(airport, 2018)\n",
    "    flight_list.append(impala.flightlist(\n",
    "    \"2018-08-01 00:01\",\n",
    "    \"2018-08-07 23:59\",\n",
    "    departure_airport = airport))\n",
    "    \n",
    "    print(airport, 2019)\n",
    "    flight_list.append(impala.flightlist(\n",
    "    \"2019-08-01 00:01\",\n",
    "    \"2019-08-07 23:59\",\n",
    "    departure_airport = airport))\n",
    "\n",
    "    print(airport, 2020)\n",
    "    flight_list.append(impala.flightlist(\n",
    "    \"2020-08-01 00:01\",\n",
    "    \"2020-08-07 23:59\",\n",
    "    departure_airport = airport))\n",
    "\n",
    "    print(airport, 2021)  \n",
    "    flight_list.append(impala.flightlist(\n",
    "    \"2021-08-01 00:01\",\n",
    "    \"2021-08-07 23:59\",\n",
    "    departure_airport = airport))\n",
    "\n",
    "    print(airport, 2022)\n",
    "    flight_list.append(impala.flightlist(\n",
    "    \"2022-08-01 00:01\",\n",
    "    \"2022-08-07 23:59\",\n",
    "    departure_airport = airport))\n",
    "\n",
    "flight_list_df = pd.concat(flight_list)\n",
    "\n",
    "flight_list_df['region'] = flight_list_df['origin'].apply(lambda x: 'CHN' if x in airports_chn else 'EUR')\n",
    "\n",
    "# Save the flight list to a csv file\n",
    "flight_list_df.to_csv(\"raw-data/opensky_flight_list.csv\")"
   ]
  }
 ],
 "metadata": {
  "kernelspec": {
   "display_name": "traffic",
   "language": "python",
   "name": "python3"
  },
  "language_info": {
   "codemirror_mode": {
    "name": "ipython",
    "version": 3
   },
   "file_extension": ".py",
   "mimetype": "text/x-python",
   "name": "python",
   "nbconvert_exporter": "python",
   "pygments_lexer": "ipython3",
   "version": "3.9.15"
  },
  "orig_nbformat": 4
 },
 "nbformat": 4,
 "nbformat_minor": 2
}
