{
 "cells": [
  {
   "cell_type": "markdown",
   "id": "6a73f333-1ef9-4d2d-af9c-062604925640",
   "metadata": {
    "tags": []
   },
   "source": [
    "## Bug"
   ]
  },
  {
   "cell_type": "code",
   "execution_count": 1,
   "id": "87ead1ae-c33c-4796-9850-e6f5dec24ff9",
   "metadata": {},
   "outputs": [
    {
     "name": "stderr",
     "output_type": "stream",
     "text": [
      "Setting spark.hadoop.yarn.resourcemanager.principal to quinten.goens\n"
     ]
    },
    {
     "data": {
      "text/html": [
       "<a href=\"https://spark-z8wxdkugw517rdx0.cml-dev.az-dev.x9er-zkvz.cloudera.site\">https://spark-z8wxdkugw517rdx0.cml-dev.az-dev.x9er-zkvz.cloudera.site</a>"
      ],
      "text/plain": [
       "<IPython.core.display.HTML object>"
      ]
     },
     "metadata": {},
     "output_type": "display_data"
    }
   ],
   "source": [
    "from pyspark.sql import SparkSession, Window\n",
    "from pyspark.sql.functions import (\n",
    "    udf, pandas_udf, PandasUDFType, lit, col,\n",
    "    to_timestamp, expr, from_unixtime\n",
    ")\n",
    "from pyspark.sql import functions as F, SparkSession, Window\n",
    "from pyspark.sql.types import DoubleType, StructType, StructField, LongType\n",
    "\n",
    "# Other imports\n",
    "from IPython.display import display, HTML\n",
    "import time\n",
    "import os\n",
    "from pyspark.sql.functions import broadcast\n",
    "\n",
    "!cp /runtime-addons/cmladdon-2.0.40-b150/log4j.properties /etc/spark/conf/\n",
    "\n",
    "spark = SparkSession\\\n",
    "    .builder\\\n",
    "    .appName(\"project_aiu\")\\\n",
    "    .config(\"spark.hadoop.fs.azure.ext.cab.required.group\",\"eur-app-aiu-dev\")\\\n",
    "    .config(\"spark.yarn.access.hadoopFileSystems\",\"abfs://storage-fs@cdpdldev0.dfs.core.windows.net/\")\\\n",
    "    .config(\"spark.driver.cores\",\"1\")\\\n",
    "    .config(\"spark.driver.memory\",\"8G\")\\\n",
    "    .config(\"spark.executor.memory\",\"6G\")\\\n",
    "    .config(\"spark.executor.cores\",\"1\")\\\n",
    "    .config(\"spark.executor.instances\",\"2\")\\\n",
    "    .config(\"spark.dynamicAllocation.maxExecutors\", \"10\")\\\n",
    "    .enableHiveSupport() \\\n",
    "    .getOrCreate()\n",
    "\n",
    "# Get environment variables\n",
    "engine_id = os.getenv('CDSW_ENGINE_ID')\n",
    "domain = os.getenv('CDSW_DOMAIN')\n",
    "\n",
    "# Format the URL\n",
    "url = f\"https://spark-{engine_id}.{domain}\"\n",
    "\n",
    "# Display the clickable URL\n",
    "display(HTML(f'<a href=\"{url}\">{url}</a>'))"
   ]
  },
  {
   "cell_type": "code",
   "execution_count": 2,
   "id": "36d36850-b9db-47ab-8670-6497d62ed513",
   "metadata": {},
   "outputs": [
    {
     "name": "stderr",
     "output_type": "stream",
     "text": [
      "[Stage 0:>                                                          (0 + 1) / 1]\r"
     ]
    },
    {
     "name": "stdout",
     "output_type": "stream",
     "text": [
      "+---+---------+---+\n",
      "| ID|     Name|Age|\n",
      "+---+---------+---+\n",
      "|  1|    Alice| 25|\n",
      "|  2|      Bob| 30|\n",
      "|  3|Catherine| 22|\n",
      "+---+---------+---+\n",
      "\n"
     ]
    },
    {
     "name": "stderr",
     "output_type": "stream",
     "text": [
      "                                                                                \r"
     ]
    }
   ],
   "source": [
    "from pyspark.sql.types import StructType, StructField, IntegerType, StringType\n",
    "\n",
    "schema = StructType([\n",
    "    StructField(\"ID\", IntegerType(), True),\n",
    "    StructField(\"Name\", StringType(), True),\n",
    "    StructField(\"Age\", IntegerType(), True)\n",
    "])\n",
    "\n",
    "data = [\n",
    "    (1, \"Alice\", 25),\n",
    "    (2, \"Bob\", 30),\n",
    "    (3, \"Catherine\", 22)\n",
    "]\n",
    "\n",
    "df = spark.createDataFrame(data, schema=schema)\n",
    "df.show()"
   ]
  },
  {
   "cell_type": "code",
   "execution_count": 4,
   "id": "2191f325-7d9c-4df4-8beb-bba1b43d14a0",
   "metadata": {},
   "outputs": [
    {
     "name": "stderr",
     "output_type": "stream",
     "text": [
      "----------------------------------------                                        \n",
      "Exception occurred during processing of request from ('127.0.0.1', 55800)\n",
      "Traceback (most recent call last):\n",
      "  File \"/usr/local/lib/python3.9/socketserver.py\", line 316, in _handle_request_noblock\n",
      "    self.process_request(request, client_address)\n",
      "  File \"/usr/local/lib/python3.9/socketserver.py\", line 347, in process_request\n",
      "    self.finish_request(request, client_address)\n",
      "  File \"/usr/local/lib/python3.9/socketserver.py\", line 360, in finish_request\n",
      "    self.RequestHandlerClass(request, client_address, self)\n",
      "  File \"/usr/local/lib/python3.9/socketserver.py\", line 747, in __init__\n",
      "    self.handle()\n",
      "  File \"/opt/spark/python/lib/pyspark.zip/pyspark/accumulators.py\", line 263, in handle\n",
      "    poll(accum_updates)\n",
      "  File \"/opt/spark/python/lib/pyspark.zip/pyspark/accumulators.py\", line 235, in poll\n",
      "    if func():\n",
      "  File \"/opt/spark/python/lib/pyspark.zip/pyspark/accumulators.py\", line 239, in accum_updates\n",
      "    num_updates = read_int(self.rfile)\n",
      "  File \"/opt/spark/python/lib/pyspark.zip/pyspark/serializers.py\", line 564, in read_int\n",
      "    raise EOFError\n",
      "EOFError\n",
      "----------------------------------------\n"
     ]
    }
   ],
   "source": [
    "df.write.mode(\"overwrite\").saveAsTable(\"`project_aiu`.`testing_insert_bug4`\")"
   ]
  },
  {
   "cell_type": "code",
   "execution_count": null,
   "id": "1653c6aa-4084-4a64-ba1e-ba2f5534b687",
   "metadata": {},
   "outputs": [],
   "source": []
  }
 ],
 "metadata": {
  "kernelspec": {
   "display_name": "Python 3 (ipykernel)",
   "language": "python",
   "name": "python3"
  },
  "language_info": {
   "codemirror_mode": {
    "name": "ipython",
    "version": 3
   },
   "file_extension": ".py",
   "mimetype": "text/x-python",
   "name": "python",
   "nbconvert_exporter": "python",
   "pygments_lexer": "ipython3",
   "version": "3.9.16"
  }
 },
 "nbformat": 4,
 "nbformat_minor": 5
}
