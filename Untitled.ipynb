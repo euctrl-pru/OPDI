{
 "cells": [
  {
   "cell_type": "code",
   "execution_count": 1,
   "id": "82734bac-66d7-4a9d-8c7e-c25ecc0b2e70",
   "metadata": {},
   "outputs": [],
   "source": [
    "import pandas as pd\n"
   ]
  },
  {
   "cell_type": "code",
   "execution_count": 3,
   "id": "bce18315-5b03-4abe-b858-a4cb801c1063",
   "metadata": {},
   "outputs": [],
   "source": [
    "df = pd.read_parquet(\"data/daily/borealis-osn-3dpi_ENGM_EETN_2023-04-17 00:00_2023-04-18 00:00.parquet.gz\")"
   ]
  },
  {
   "cell_type": "code",
   "execution_count": 5,
   "id": "d0d58326-f5af-457c-8c66-26860583d8a1",
   "metadata": {},
   "outputs": [
    {
     "data": {
      "text/plain": [
       "(8345, 21)"
      ]
     },
     "execution_count": 5,
     "metadata": {},
     "output_type": "execute_result"
    }
   ],
   "source": [
    "df.shape"
   ]
  },
  {
   "cell_type": "code",
   "execution_count": 10,
   "id": "f0ab5fa8-d13a-4d5f-8fab-62b9a30b9322",
   "metadata": {},
   "outputs": [],
   "source": [
    "df = pd.read_parquet(\"data/daily/borealis-osn-3dpi_ENGM_EYVA_2023-04-25 00:00_2023-04-26 00:00.parquet.gz\")"
   ]
  },
  {
   "cell_type": "code",
   "execution_count": 11,
   "id": "be3b066c-e0cb-4889-bf9d-7427f2adb05f",
   "metadata": {},
   "outputs": [
    {
     "data": {
      "text/plain": [
       "(0, 0)"
      ]
     },
     "execution_count": 11,
     "metadata": {},
     "output_type": "execute_result"
    }
   ],
   "source": [
    "df.shape"
   ]
  },
  {
   "cell_type": "code",
   "execution_count": 12,
   "id": "9f0a18c2-37e4-41e7-b099-278f0b20cb04",
   "metadata": {},
   "outputs": [
    {
     "data": {
      "text/html": [
       "<div>\n",
       "<style scoped>\n",
       "    .dataframe tbody tr th:only-of-type {\n",
       "        vertical-align: middle;\n",
       "    }\n",
       "\n",
       "    .dataframe tbody tr th {\n",
       "        vertical-align: top;\n",
       "    }\n",
       "\n",
       "    .dataframe thead th {\n",
       "        text-align: right;\n",
       "    }\n",
       "</style>\n",
       "<table border=\"1\" class=\"dataframe\">\n",
       "  <thead>\n",
       "    <tr style=\"text-align: right;\">\n",
       "      <th></th>\n",
       "    </tr>\n",
       "  </thead>\n",
       "  <tbody>\n",
       "  </tbody>\n",
       "</table>\n",
       "</div>"
      ],
      "text/plain": [
       "Empty DataFrame\n",
       "Columns: []\n",
       "Index: []"
      ]
     },
     "execution_count": 12,
     "metadata": {},
     "output_type": "execute_result"
    }
   ],
   "source": [
    "df"
   ]
  }
 ],
 "metadata": {
  "kernelspec": {
   "display_name": "Python 3 (ipykernel)",
   "language": "python",
   "name": "python3"
  },
  "language_info": {
   "codemirror_mode": {
    "name": "ipython",
    "version": 3
   },
   "file_extension": ".py",
   "mimetype": "text/x-python",
   "name": "python",
   "nbconvert_exporter": "python",
   "pygments_lexer": "ipython3",
   "version": "3.9.11"
  }
 },
 "nbformat": 4,
 "nbformat_minor": 5
}
