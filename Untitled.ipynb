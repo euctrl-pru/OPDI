{
 "cells": [
  {
   "cell_type": "code",
   "execution_count": 1,
   "id": "ca58c23b-138c-4770-9b0e-9b378c245245",
   "metadata": {},
   "outputs": [
    {
     "data": {
      "text/html": [
       "<div>\n",
       "<style scoped>\n",
       "    .dataframe tbody tr th:only-of-type {\n",
       "        vertical-align: middle;\n",
       "    }\n",
       "\n",
       "    .dataframe tbody tr th {\n",
       "        vertical-align: top;\n",
       "    }\n",
       "\n",
       "    .dataframe thead th {\n",
       "        text-align: right;\n",
       "    }\n",
       "</style>\n",
       "<table border=\"1\" class=\"dataframe\">\n",
       "  <thead>\n",
       "    <tr style=\"text-align: right;\">\n",
       "      <th></th>\n",
       "      <th>months</th>\n",
       "    </tr>\n",
       "  </thead>\n",
       "  <tbody>\n",
       "    <tr>\n",
       "      <th>0</th>\n",
       "      <td>2023-01-01</td>\n",
       "    </tr>\n",
       "    <tr>\n",
       "      <th>1</th>\n",
       "      <td>2023-02-01</td>\n",
       "    </tr>\n",
       "    <tr>\n",
       "      <th>2</th>\n",
       "      <td>2023-03-01</td>\n",
       "    </tr>\n",
       "    <tr>\n",
       "      <th>3</th>\n",
       "      <td>2023-04-01</td>\n",
       "    </tr>\n",
       "  </tbody>\n",
       "</table>\n",
       "</div>"
      ],
      "text/plain": [
       "       months\n",
       "0  2023-01-01\n",
       "1  2023-02-01\n",
       "2  2023-03-01\n",
       "3  2023-04-01"
      ]
     },
     "execution_count": 1,
     "metadata": {},
     "output_type": "execute_result"
    }
   ],
   "source": [
    "import pandas as pd\n",
    "\n",
    "pd.read_parquet('logs/02_osn-tracks-etl-log.parquet')"
   ]
  },
  {
   "cell_type": "code",
   "execution_count": 1,
   "id": "5cb42c27-9068-4257-9d0a-1eed1c33847e",
   "metadata": {},
   "outputs": [],
   "source": [
    "def get_start_end_of_month(date):\n",
    "    \"\"\"Return a datetime object for the first and last second  of the given month and year.\"\"\"\n",
    "    year = date.year\n",
    "    month = date.month\n",
    "    \n",
    "    first_second = datetime.datetime(year, month, 1, 0, 0, 0)\n",
    "    last_day = calendar.monthrange(year, month)[1]\n",
    "    last_second = datetime.datetime(year, month, last_day, 23, 59, 59)\n",
    "    return first_second.timestamp(), last_second.timestamp()"
   ]
  },
  {
   "cell_type": "code",
   "execution_count": 2,
   "id": "47c4fe20-537e-44a3-8346-2f04926a9894",
   "metadata": {},
   "outputs": [],
   "source": [
    "from datetime import datetime"
   ]
  },
  {
   "cell_type": "code",
   "execution_count": 6,
   "id": "a1fd43e2-12c1-414b-8ba2-dbde4cc8613f",
   "metadata": {},
   "outputs": [],
   "source": [
    "date = datetime(2023,1,1, 0,0,0)"
   ]
  },
  {
   "cell_type": "code",
   "execution_count": 7,
   "id": "14dee1f4-f3da-4c1d-83f4-91a46e3a3cd9",
   "metadata": {},
   "outputs": [
    {
     "ename": "AttributeError",
     "evalue": "type object 'datetime.datetime' has no attribute 'datetime'",
     "output_type": "error",
     "traceback": [
      "\u001b[0;31m---------------------------------------------------------------------------\u001b[0m",
      "\u001b[0;31mAttributeError\u001b[0m                            Traceback (most recent call last)",
      "\u001b[0;32m/tmp/ipykernel_195/2455283954.py\u001b[0m in \u001b[0;36m<module>\u001b[0;34m\u001b[0m\n\u001b[0;32m----> 1\u001b[0;31m \u001b[0mget_start_end_of_month\u001b[0m\u001b[0;34m(\u001b[0m\u001b[0mdate\u001b[0m\u001b[0;34m)\u001b[0m\u001b[0;34m\u001b[0m\u001b[0;34m\u001b[0m\u001b[0m\n\u001b[0m",
      "\u001b[0;32m/tmp/ipykernel_195/532635103.py\u001b[0m in \u001b[0;36mget_start_end_of_month\u001b[0;34m(date)\u001b[0m\n\u001b[1;32m      4\u001b[0m     \u001b[0mmonth\u001b[0m \u001b[0;34m=\u001b[0m \u001b[0mdate\u001b[0m\u001b[0;34m.\u001b[0m\u001b[0mmonth\u001b[0m\u001b[0;34m\u001b[0m\u001b[0;34m\u001b[0m\u001b[0m\n\u001b[1;32m      5\u001b[0m \u001b[0;34m\u001b[0m\u001b[0m\n\u001b[0;32m----> 6\u001b[0;31m     \u001b[0mfirst_second\u001b[0m \u001b[0;34m=\u001b[0m \u001b[0mdatetime\u001b[0m\u001b[0;34m.\u001b[0m\u001b[0mdatetime\u001b[0m\u001b[0;34m(\u001b[0m\u001b[0myear\u001b[0m\u001b[0;34m,\u001b[0m \u001b[0mmonth\u001b[0m\u001b[0;34m,\u001b[0m \u001b[0;36m1\u001b[0m\u001b[0;34m,\u001b[0m \u001b[0;36m0\u001b[0m\u001b[0;34m,\u001b[0m \u001b[0;36m0\u001b[0m\u001b[0;34m,\u001b[0m \u001b[0;36m0\u001b[0m\u001b[0;34m)\u001b[0m\u001b[0;34m\u001b[0m\u001b[0;34m\u001b[0m\u001b[0m\n\u001b[0m\u001b[1;32m      7\u001b[0m     \u001b[0mlast_day\u001b[0m \u001b[0;34m=\u001b[0m \u001b[0mcalendar\u001b[0m\u001b[0;34m.\u001b[0m\u001b[0mmonthrange\u001b[0m\u001b[0;34m(\u001b[0m\u001b[0myear\u001b[0m\u001b[0;34m,\u001b[0m \u001b[0mmonth\u001b[0m\u001b[0;34m)\u001b[0m\u001b[0;34m[\u001b[0m\u001b[0;36m1\u001b[0m\u001b[0;34m]\u001b[0m\u001b[0;34m\u001b[0m\u001b[0;34m\u001b[0m\u001b[0m\n\u001b[1;32m      8\u001b[0m     \u001b[0mlast_second\u001b[0m \u001b[0;34m=\u001b[0m \u001b[0mdatetime\u001b[0m\u001b[0;34m.\u001b[0m\u001b[0mdatetime\u001b[0m\u001b[0;34m(\u001b[0m\u001b[0myear\u001b[0m\u001b[0;34m,\u001b[0m \u001b[0mmonth\u001b[0m\u001b[0;34m,\u001b[0m \u001b[0mlast_day\u001b[0m\u001b[0;34m,\u001b[0m \u001b[0;36m23\u001b[0m\u001b[0;34m,\u001b[0m \u001b[0;36m59\u001b[0m\u001b[0;34m,\u001b[0m \u001b[0;36m59\u001b[0m\u001b[0;34m)\u001b[0m\u001b[0;34m\u001b[0m\u001b[0;34m\u001b[0m\u001b[0m\n",
      "\u001b[0;31mAttributeError\u001b[0m: type object 'datetime.datetime' has no attribute 'datetime'"
     ]
    }
   ],
   "source": [
    "get_start_end_of_month(date)"
   ]
  },
  {
   "cell_type": "code",
   "execution_count": 21,
   "id": "8a36d174-a294-45f2-8d3e-04cc41becb64",
   "metadata": {},
   "outputs": [
    {
     "name": "stdout",
     "output_type": "stream",
     "text": [
      "2023-01-01\n",
      "2023-02-01\n",
      "2023-03-01\n",
      "2023-04-01\n",
      "2023-05-01\n",
      "2023-06-01\n",
      "2023-07-01\n",
      "2023-08-01\n",
      "2023-09-01\n",
      "2023-10-01\n",
      "2023-11-01\n",
      "2023-12-01\n",
      "2024-01-01\n",
      "2024-02-01\n",
      "2024-03-01\n",
      "2024-04-01\n",
      "2024-05-01\n"
     ]
    }
   ],
   "source": [
    "\n",
    "\n",
    "for month in months:\n",
    "    print(month)"
   ]
  },
  {
   "cell_type": "code",
   "execution_count": null,
   "id": "88c11be7-7c9b-40a2-bc19-c8c8e74f7f27",
   "metadata": {},
   "outputs": [],
   "source": [
    "date.today() - "
   ]
  },
  {
   "cell_type": "code",
   "execution_count": 9,
   "id": "8ee2729d-251b-425f-b77a-389a80d9715f",
   "metadata": {},
   "outputs": [
    {
     "name": "stdout",
     "output_type": "stream",
     "text": [
      "2024-04-04\n"
     ]
    }
   ],
   "source": [
    "\n",
    "print(d2)"
   ]
  },
  {
   "cell_type": "code",
   "execution_count": 27,
   "id": "a602a5fc-b7ce-40ba-ae8b-84845ca678a3",
   "metadata": {},
   "outputs": [
    {
     "name": "stdout",
     "output_type": "stream",
     "text": [
      "First second: 2024-02-01 00:00:00\n",
      "Last second: 2024-02-29 23:59:59\n"
     ]
    }
   ],
   "source": [
    "import datetime\n",
    "\n",
    "start_date = datetime.date(2023,1,1)\n",
    "end_date = datetime.date(2024,4,1)\n",
    "\n",
    "# Example usage\n",
    "year = 2024\n",
    "month = 2\n",
    "first_second, last_second = get_start_end_of_month(year, month)\n",
    "\n",
    "print(\"First second:\", first_second)\n",
    "print(\"Last second:\", last_second)"
   ]
  },
  {
   "cell_type": "code",
   "execution_count": 28,
   "id": "98e51944-7dc3-4274-bd10-8f7e8db2be42",
   "metadata": {},
   "outputs": [
    {
     "data": {
      "text/plain": [
       "1706745600.0"
      ]
     },
     "execution_count": 28,
     "metadata": {},
     "output_type": "execute_result"
    }
   ],
   "source": [
    "first_second.timestamp()"
   ]
  },
  {
   "cell_type": "code",
   "execution_count": 4,
   "id": "102e60ab-2ff0-4f92-89ea-0ffb84d1d2d9",
   "metadata": {},
   "outputs": [
    {
     "name": "stdout",
     "output_type": "stream",
     "text": [
      "   osn_h3_statevectors.event_time osn_h3_statevectors.icao24  \\\n",
      "0                      1679853605                     471f02   \n",
      "1                      1679853610                     471f02   \n",
      "2                      1679853615                     471f02   \n",
      "3                      1679853620                     471f02   \n",
      "4                      1679853625                     471f02   \n",
      "5                      1679853630                     471f02   \n",
      "6                      1679853635                     471f02   \n",
      "7                      1679853640                     471f02   \n",
      "8                      1679853645                     471f02   \n",
      "9                      1679853650                     471f02   \n",
      "\n",
      "   osn_h3_statevectors.lat  osn_h3_statevectors.lon  \\\n",
      "0                47.455765                24.156532   \n",
      "1                47.455765                24.156532   \n",
      "2                47.457306                24.206966   \n",
      "3                47.457733                24.221420   \n",
      "4                47.457733                24.221420   \n",
      "5                47.457733                24.221420   \n",
      "6                47.457733                24.221420   \n",
      "7                47.457733                24.221420   \n",
      "8                47.457733                24.221420   \n",
      "9                47.457733                24.221420   \n",
      "\n",
      "   osn_h3_statevectors.velocity  osn_h3_statevectors.heading  \\\n",
      "0                    256.442981                    87.470506   \n",
      "1                    256.956925                    87.475568   \n",
      "2                    256.956925                    87.475568   \n",
      "3                    256.956925                    87.475568   \n",
      "4                    256.956925                    87.475568   \n",
      "5                    256.956925                    87.475568   \n",
      "6                    256.956925                    87.475568   \n",
      "7                    256.956925                    87.475568   \n",
      "8                    256.956925                    87.475568   \n",
      "9                    256.956925                    87.475568   \n",
      "\n",
      "   osn_h3_statevectors.vert_rate osn_h3_statevectors.callsign  \\\n",
      "0                        0.32512                     WZZ744     \n",
      "1                        0.00000                     WZZ744     \n",
      "2                       -0.32512                     WZZ744     \n",
      "3                        0.00000                     WZZ744     \n",
      "4                        0.00000                     WZZ744     \n",
      "5                        0.00000                     WZZ744     \n",
      "6                        0.00000                     WZZ744     \n",
      "7                        0.00000                     WZZ744     \n",
      "8                        0.00000                     WZZ744     \n",
      "9                        0.00000                     WZZ744     \n",
      "\n",
      "   osn_h3_statevectors.on_ground  osn_h3_statevectors.alert  ...  \\\n",
      "0                          False                      False  ...   \n",
      "1                          False                      False  ...   \n",
      "2                          False                      False  ...   \n",
      "3                          False                      False  ...   \n",
      "4                          False                      False  ...   \n",
      "5                          False                      False  ...   \n",
      "6                          False                      False  ...   \n",
      "7                          False                      False  ...   \n",
      "8                          False                      False  ...   \n",
      "9                          False                      False  ...   \n",
      "\n",
      "   osn_h3_statevectors.h3_res_9 osn_h3_statevectors.h3_res_8  \\\n",
      "0               891e096220bffff              881e096221fffff   \n",
      "1               891e096220bffff              881e096221fffff   \n",
      "2               891e0962337ffff              881e096233fffff   \n",
      "3               891e0962e1bffff              881e0962e1fffff   \n",
      "4               891e0962e1bffff              881e0962e1fffff   \n",
      "5               891e0962e1bffff              881e0962e1fffff   \n",
      "6               891e0962e1bffff              881e0962e1fffff   \n",
      "7               891e0962e1bffff              881e0962e1fffff   \n",
      "8               891e0962e1bffff              881e0962e1fffff   \n",
      "9               891e0962e1bffff              881e0962e1fffff   \n",
      "\n",
      "   osn_h3_statevectors.h3_res_7  osn_h3_statevectors.h3_res_6  \\\n",
      "0               871e09622ffffff               861e09627ffffff   \n",
      "1               871e09622ffffff               861e09627ffffff   \n",
      "2               871e09623ffffff               861e09627ffffff   \n",
      "3               871e0962effffff               861e0962fffffff   \n",
      "4               871e0962effffff               861e0962fffffff   \n",
      "5               871e0962effffff               861e0962fffffff   \n",
      "6               871e0962effffff               861e0962fffffff   \n",
      "7               871e0962effffff               861e0962fffffff   \n",
      "8               871e0962effffff               861e0962fffffff   \n",
      "9               871e0962effffff               861e0962fffffff   \n",
      "\n",
      "   osn_h3_statevectors.h3_res_5  osn_h3_statevectors.h3_res_4  \\\n",
      "0               851e0963fffffff               841e097ffffffff   \n",
      "1               851e0963fffffff               841e097ffffffff   \n",
      "2               851e0963fffffff               841e097ffffffff   \n",
      "3               851e0963fffffff               841e097ffffffff   \n",
      "4               851e0963fffffff               841e097ffffffff   \n",
      "5               851e0963fffffff               841e097ffffffff   \n",
      "6               851e0963fffffff               841e097ffffffff   \n",
      "7               851e0963fffffff               841e097ffffffff   \n",
      "8               851e0963fffffff               841e097ffffffff   \n",
      "9               851e0963fffffff               841e097ffffffff   \n",
      "\n",
      "  osn_h3_statevectors.h3_res_3 osn_h3_statevectors.h3_res_2  \\\n",
      "0              831e09fffffffff              821e0ffffffffff   \n",
      "1              831e09fffffffff              821e0ffffffffff   \n",
      "2              831e09fffffffff              821e0ffffffffff   \n",
      "3              831e09fffffffff              821e0ffffffffff   \n",
      "4              831e09fffffffff              821e0ffffffffff   \n",
      "5              831e09fffffffff              821e0ffffffffff   \n",
      "6              831e09fffffffff              821e0ffffffffff   \n",
      "7              831e09fffffffff              821e0ffffffffff   \n",
      "8              831e09fffffffff              821e0ffffffffff   \n",
      "9              831e09fffffffff              821e0ffffffffff   \n",
      "\n",
      "  osn_h3_statevectors.h3_res_1 osn_h3_statevectors.h3_res_0  \n",
      "0              811e3ffffffffff              801ffffffffffff  \n",
      "1              811e3ffffffffff              801ffffffffffff  \n",
      "2              811e3ffffffffff              801ffffffffffff  \n",
      "3              811e3ffffffffff              801ffffffffffff  \n",
      "4              811e3ffffffffff              801ffffffffffff  \n",
      "5              811e3ffffffffff              801ffffffffffff  \n",
      "6              811e3ffffffffff              801ffffffffffff  \n",
      "7              811e3ffffffffff              801ffffffffffff  \n",
      "8              811e3ffffffffff              801ffffffffffff  \n",
      "9              811e3ffffffffff              801ffffffffffff  \n",
      "\n",
      "[10 rows x 30 columns]\n"
     ]
    }
   ],
   "source": [
    "import cml.data_v1 as cmldata\n",
    "\n",
    "CONNECTION_NAME = \"de-spark2-dev\"\n",
    "conn = cmldata.get_connection(CONNECTION_NAME)\n",
    "\n",
    "## Sample Usage to get pandas data frame\n",
    "EXAMPLE_SQL_QUERY = \"SELECT * FROM project_aiu.osn_h3_statevectors limit 10\"\n",
    "dataframe = conn.get_pandas_dataframe(EXAMPLE_SQL_QUERY)\n",
    "print(dataframe)\n",
    "\n",
    "## Other Usage Notes:\n",
    "\n",
    "## Alternate Sample Usage to provide different credentials as optional parameters\n",
    "#conn = cmldata.get_connection(\n",
    "#    CONNECTION_NAME, {\"USERNAME\": \"someuser\", \"PASSWORD\": \"somepassword\"}\n",
    "#)\n",
    "\n",
    "## Alternate Sample Usage to get DB API Connection interface\n",
    "#db_conn = conn.get_base_connection()\n",
    "\n",
    "## Alternate Sample Usage to get DB API Cursor interface\n",
    "#db_cursor = conn.get_cursor()\n",
    "#db_cursor.execute(EXAMPLE_SQL_QUERY)\n",
    "#for row in db_cursor:\n",
    "#  print(row)"
   ]
  },
  {
   "cell_type": "code",
   "execution_count": null,
   "id": "d489e099-1d70-483e-b456-a73752d27b3e",
   "metadata": {},
   "outputs": [],
   "source": [
    "response = requests.get(\"https://www.eurocontrol.int/performance/data/download/other/hexaero/airport_hex.zip\")"
   ]
  },
  {
   "cell_type": "code",
   "execution_count": null,
   "id": "72d79849-d3c2-4d32-876d-f90cc9c747ec",
   "metadata": {},
   "outputs": [],
   "source": []
  }
 ],
 "metadata": {
  "kernelspec": {
   "display_name": "Python 3 (ipykernel)",
   "language": "python",
   "name": "python3"
  },
  "language_info": {
   "codemirror_mode": {
    "name": "ipython",
    "version": 3
   },
   "file_extension": ".py",
   "mimetype": "text/x-python",
   "name": "python",
   "nbconvert_exporter": "python",
   "pygments_lexer": "ipython3",
   "version": "3.9.11"
  }
 },
 "nbformat": 4,
 "nbformat_minor": 5
}
