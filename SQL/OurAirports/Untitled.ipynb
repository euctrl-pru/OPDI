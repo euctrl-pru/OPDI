{
 "cells": [
  {
   "cell_type": "code",
   "execution_count": 4,
   "id": "5508e993-5c7b-42bf-a97c-288943c20915",
   "metadata": {},
   "outputs": [
    {
     "data": {
      "text/plain": [
       "'06 October 2023'"
      ]
     },
     "execution_count": 4,
     "metadata": {},
     "output_type": "execute_result"
    }
   ],
   "source": []
  }
 ],
 "metadata": {
  "kernelspec": {
   "display_name": "Python 3 (ipykernel)",
   "language": "python",
   "name": "python3"
  },
  "language_info": {
   "codemirror_mode": {
    "name": "ipython",
    "version": 3
   },
   "file_extension": ".py",
   "mimetype": "text/x-python",
   "name": "python",
   "nbconvert_exporter": "python",
   "pygments_lexer": "ipython3",
   "version": "3.9.11"
  }
 },
 "nbformat": 4,
 "nbformat_minor": 5
}
